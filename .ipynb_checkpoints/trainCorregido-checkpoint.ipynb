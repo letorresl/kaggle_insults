{
 "metadata": {
  "name": "",
  "signature": "sha256:d8b9f5d2025d64111fd2c6dfbeebe8655b71edd5e39ea5f1ae283b5413ff4e72"
 },
 "nbformat": 3,
 "nbformat_minor": 0,
 "worksheets": []
}